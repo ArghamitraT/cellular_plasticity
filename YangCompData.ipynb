{
 "cells": [
  {
   "cell_type": "code",
   "execution_count": 1,
   "id": "initial_id",
   "metadata": {
    "collapsed": true,
    "ExecuteTime": {
     "end_time": "2023-10-13T18:50:27.922033Z",
     "start_time": "2023-10-13T18:50:27.917136Z"
    }
   },
   "outputs": [],
   "source": [
    "# This file works with the comprehensive Yang's data where we have the score of all genes"
   ]
  },
  {
   "cell_type": "code",
   "execution_count": 6,
   "outputs": [],
   "source": [
    "import scanpy as sc"
   ],
   "metadata": {
    "collapsed": false,
    "ExecuteTime": {
     "end_time": "2023-10-14T01:59:09.544908Z",
     "start_time": "2023-10-14T01:59:09.541631Z"
    }
   },
   "id": "1c9774c3496a9d86"
  },
  {
   "cell_type": "code",
   "execution_count": 8,
   "outputs": [
    {
     "name": "stderr",
     "output_type": "stream",
     "text": [
      "/Applications/PyCharm.app/Contents/plugins/python/helpers/pydev/_pydevd_bundle/pydevd_resolver.py:178: DeprecationWarning: Use is_view instead of isview, isview will be removed in the future.\n",
      "  attr = getattr(var, n)\n"
     ]
    },
    {
     "name": "stdout",
     "output_type": "stream",
     "text": []
    }
   ],
   "source": [
    "x = sc.read_10x_mtx('../data/KPTracer-Data/mm10/')\n",
    "# z = sc.read_10x_mtx('../data/mm10/matrix.mtx', var_names='../data/mm10/genes.tsv'[1])\n",
    "print()"
   ],
   "metadata": {
    "collapsed": false,
    "ExecuteTime": {
     "end_time": "2023-10-14T02:23:41.829572Z",
     "start_time": "2023-10-14T02:09:58.362215Z"
    }
   },
   "id": "cf4ea50e801682d0"
  },
  {
   "cell_type": "code",
   "execution_count": 16,
   "outputs": [
    {
     "name": "stdout",
     "output_type": "stream",
     "text": []
    }
   ],
   "source": [
    "# the cells we are interested in\n",
    "data_path = '../data/KPTracer-Data/expression/adata_processed.combined.h5ad'\n",
    "adams = sc.read(data_path)\n",
    "cell_arr = []\n",
    "for i in range(adams.shape[0]):\n",
    "    cell_arr.append(adams.obs_names.values[i])\n",
    "print()"
   ],
   "metadata": {
    "collapsed": false,
    "ExecuteTime": {
     "end_time": "2023-10-14T02:33:29.221104Z",
     "start_time": "2023-10-14T02:33:10.880873Z"
    }
   },
   "id": "ac3d887cc97b5bc9"
  },
  {
   "cell_type": "code",
   "execution_count": 20,
   "outputs": [
    {
     "name": "stderr",
     "output_type": "stream",
     "text": [
      "/Applications/PyCharm.app/Contents/plugins/python/helpers/pydev/_pydevd_bundle/pydevd_resolver.py:178: DeprecationWarning: Use is_view instead of isview, isview will be removed in the future.\n",
      "  attr = getattr(var, n)\n",
      "/Applications/PyCharm.app/Contents/plugins/python/helpers/pydev/_pydevd_bundle/pydevd_resolver.py:178: DeprecationWarning: Use is_view instead of isview, isview will be removed in the future.\n",
      "  attr = getattr(var, n)\n",
      "/Applications/PyCharm.app/Contents/plugins/python/helpers/pydev/_pydev_bundle/_pydev_imports_tipper.py:216: DeprecationWarning: Use is_view instead of isview, isview will be removed in the future.\n",
      "  obj = getattr(obj_to_complete, d)\n",
      "/Applications/PyCharm.app/Contents/plugins/python/helpers/pydev/_pydevd_bundle/pydevd_resolver.py:178: DeprecationWarning: Use is_view instead of isview, isview will be removed in the future.\n",
      "  attr = getattr(var, n)\n",
      "/Applications/PyCharm.app/Contents/plugins/python/helpers/pydev/_pydevd_bundle/pydevd_resolver.py:178: DeprecationWarning: Use is_view instead of isview, isview will be removed in the future.\n",
      "  attr = getattr(var, n)\n",
      "/Applications/PyCharm.app/Contents/plugins/python/helpers/pydev/_pydevd_bundle/pydevd_resolver.py:178: DeprecationWarning: Use is_view instead of isview, isview will be removed in the future.\n",
      "  attr = getattr(var, n)\n",
      "/Applications/PyCharm.app/Contents/plugins/python/helpers/pydev/_pydevd_bundle/pydevd_resolver.py:178: DeprecationWarning: Use is_view instead of isview, isview will be removed in the future.\n",
      "  attr = getattr(var, n)\n"
     ]
    },
    {
     "name": "stdout",
     "output_type": "stream",
     "text": []
    }
   ],
   "source": [
    "adams_comp = x[x.obs_names.isin(cell_arr)].copy()\n",
    "adams_comp.layers[\"counts\"]=adams_comp.X\n",
    "adams_comp.write_h5ad('../data/KPTracer-Data/expression/adata_processed_comp.h5ad')\n",
    "print()"
   ],
   "metadata": {
    "collapsed": false,
    "ExecuteTime": {
     "end_time": "2023-10-14T02:41:15.397922Z",
     "start_time": "2023-10-14T02:33:35.209202Z"
    }
   },
   "id": "f96ca09fc604abfc"
  }
 ],
 "metadata": {
  "kernelspec": {
   "display_name": "Python 3",
   "language": "python",
   "name": "python3"
  },
  "language_info": {
   "codemirror_mode": {
    "name": "ipython",
    "version": 2
   },
   "file_extension": ".py",
   "mimetype": "text/x-python",
   "name": "python",
   "nbconvert_exporter": "python",
   "pygments_lexer": "ipython2",
   "version": "2.7.6"
  }
 },
 "nbformat": 4,
 "nbformat_minor": 5
}
