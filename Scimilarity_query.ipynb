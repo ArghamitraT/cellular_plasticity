{
 "cells": [
  {
   "cell_type": "code",
   "execution_count": null,
   "outputs": [],
   "source": [
    "\"\"\" This file does the scimilarity annotation but as .ipnyb file it makes the debugging easy \"\"\""
   ],
   "metadata": {
    "collapsed": false
   },
   "id": "3b6eb909495351b"
  },
  {
   "cell_type": "code",
   "execution_count": 8,
   "outputs": [],
   "source": [
    "# Environment settings\n",
    "import scanpy as sc\n",
    "import warnings\n",
    "from scimilarity.utils import lognorm_counts\n",
    "from scimilarity import CellAnnotation, align_dataset\n",
    "import utils_AT\n",
    "import numpy as np\n",
    "import pandas as pd\n",
    "import csv"
   ],
   "metadata": {
    "collapsed": false,
    "ExecuteTime": {
     "end_time": "2023-11-07T04:45:45.880355Z",
     "start_time": "2023-11-07T04:45:45.875206Z"
    }
   },
   "id": "initial_id"
  },
  {
   "cell_type": "code",
   "execution_count": 9,
   "outputs": [
    {
     "data": {
      "text/plain": "'\"  ###### VARIABLES ########  '"
     },
     "execution_count": 9,
     "metadata": {},
     "output_type": "execute_result"
    }
   ],
   "source": [
    "\"\"\"\"  ###### VARIABLES ########  \"\"\"\n",
    "\n",
    "# Select visualization options\n",
    "ALL = 0\n",
    "clstr = 0\n",
    "uncnstrnd_prdctn = 0\n",
    "cnstrnd_prdctn = 0\n",
    "min_dist = 1\n",
    "gene_score = 1\n",
    "annotation_path = '../models/annotation_model_v1'\n",
    "data_path = '../data/GSE136831_subsample.h5ad' #(AT)\n",
    "\"\"\"\"  ###### VARIABLES ########  \"\"\""
   ],
   "metadata": {
    "collapsed": false,
    "ExecuteTime": {
     "end_time": "2023-11-07T04:45:50.887586Z",
     "start_time": "2023-11-07T04:45:50.878897Z"
    }
   },
   "id": "9a183ea62cd3eee1"
  },
  {
   "cell_type": "code",
   "execution_count": 10,
   "outputs": [],
   "source": [
    "ca = CellAnnotation(model_path=annotation_path)"
   ],
   "metadata": {
    "collapsed": false,
    "ExecuteTime": {
     "end_time": "2023-11-07T04:46:38.956725Z",
     "start_time": "2023-11-07T04:45:52.133908Z"
    }
   },
   "id": "bdfc181e7d0b7fe6"
  },
  {
   "cell_type": "code",
   "execution_count": 6,
   "outputs": [],
   "source": [
    "# Model read, data read\n",
    "sc.set_figure_params(dpi_save=800)\n",
    "warnings.filterwarnings('ignore')\n",
    "ca = CellAnnotation(model_path=annotation_path)\n",
    "adams = sc.read(data_path)\n",
    "\n",
    "#(AT) to match the target gene, all name of the gene needs to be uppercase\n",
    "for indx_num in range(len(adams.var.index)):\n",
    "     adams.var.index.values[indx_num] = adams.var.index[indx_num].upper()\n",
    "#data processing\n",
    "adams = align_dataset(adams, ca.gene_order)\n",
    "adams = lognorm_counts(adams)\n",
    "adams.obsm['X_scimilarity'] = ca.get_embeddings(adams.X)\n"
   ],
   "metadata": {
    "collapsed": false,
    "ExecuteTime": {
     "start_time": "2023-11-07T04:39:14.959469Z"
    }
   },
   "id": "76c789b57408d8b4"
  },
  {
   "cell_type": "code",
   "execution_count": 4,
   "outputs": [
    {
     "name": "stdout",
     "output_type": "stream",
     "text": [
      "Get nearest neighbors finished in: 0.15995682875315348 min\n"
     ]
    },
    {
     "name": "stderr",
     "output_type": "stream",
     "text": [
      "100%|██████████| 50000/50000 [00:16<00:00, 3076.46it/s]\n"
     ]
    },
    {
     "data": {
      "text/plain": "' UNCONSTRAINED ANNOTATION '"
     },
     "execution_count": 4,
     "metadata": {},
     "output_type": "execute_result"
    }
   ],
   "source": [
    "\"\"\" UNCONSTRAINED ANNOTATION \"\"\"\n",
    "\n",
    "# - nn_idxs: indicies of cells in the SCimilarity reference.\n",
    "# - nn_dists: the minimum distance within k=50 nearest neighbors.\n",
    "# - nn_stats: a dataframe containing useful metrics\n",
    "#           such as (distribution of celltypes in k=50 nearest neighbors.\n",
    "\n",
    "# Processing\n",
    "predictions, nn_idxs, nn_dists, nn_stats = ca.get_predictions_kNN(adams.obsm['X_scimilarity'])\n",
    "adams.obs['predictions_unconstrained'] = predictions.values\n",
    "\n",
    "\"\"\" UNCONSTRAINED ANNOTATION \"\"\""
   ],
   "metadata": {
    "collapsed": false,
    "ExecuteTime": {
     "end_time": "2023-11-06T18:35:08.002847Z",
     "start_time": "2023-11-06T18:34:42.057056Z"
    }
   },
   "id": "a06527916e04548"
  },
  {
   "cell_type": "code",
   "execution_count": 11,
   "outputs": [],
   "source": [
    "data_path = '../data/KPTracer-Data/expression/adata_processed_combined_SCANTN.h5ad'\n",
    "adams = sc.read(data_path)"
   ],
   "metadata": {
    "collapsed": false,
    "ExecuteTime": {
     "end_time": "2023-11-07T04:47:03.662677Z",
     "start_time": "2023-11-07T04:47:02.151936Z"
    }
   },
   "id": "ee85587175757cf2"
  },
  {
   "cell_type": "code",
   "execution_count": 12,
   "outputs": [],
   "source": [
    "fm_basic_signature = ['SPP1', 'TREM2', 'GPNMB', 'MMP9', 'CHIT1', 'CHI3L1']\n",
    "sc.tl.score_genes(adams, fm_basic_signature)\n",
    "sig_query_threshold = adams.obs.score.quantile(.999)\n",
    "cells_used_in_query = adams.obs.score>=sig_query_threshold\n",
    "adams.obs['used_in_query'] = cells_used_in_query"
   ],
   "metadata": {
    "collapsed": false,
    "ExecuteTime": {
     "end_time": "2023-11-07T04:47:05.611733Z",
     "start_time": "2023-11-07T04:47:05.009524Z"
    }
   },
   "id": "779dfd2555278d20"
  },
  {
   "cell_type": "code",
   "execution_count": 13,
   "outputs": [],
   "source": [
    "from scimilarity.utils import get_centroid\n",
    "avg_cell = get_centroid(adams.layers['counts'][adams.obs['used_in_query']])\n",
    "avg_embedding = ca.get_embeddings(avg_cell)"
   ],
   "metadata": {
    "collapsed": false,
    "ExecuteTime": {
     "end_time": "2023-11-07T04:47:06.710197Z",
     "start_time": "2023-11-07T04:47:06.635266Z"
    }
   },
   "id": "4eebf44f7e684f67"
  },
  {
   "cell_type": "code",
   "execution_count": 14,
   "outputs": [],
   "source": [
    "from scimilarity import CellQuery\n",
    "\n",
    "query_path = '../models/query_model_v1'\n",
    "cq = CellQuery(model_path=annotation_path,\n",
    "               cellsearch_path=query_path)"
   ],
   "metadata": {
    "collapsed": false,
    "ExecuteTime": {
     "end_time": "2023-11-07T04:51:48.067494Z",
     "start_time": "2023-11-07T04:47:10.070540Z"
    }
   },
   "id": "2ef19b2425008f25"
  },
  {
   "cell_type": "code",
   "execution_count": 19,
   "outputs": [
    {
     "ename": "KeyboardInterrupt",
     "evalue": "",
     "output_type": "error",
     "traceback": [
      "\u001B[0;31m---------------------------------------------------------------------------\u001B[0m",
      "\u001B[0;31mKeyboardInterrupt\u001B[0m                         Traceback (most recent call last)",
      "Cell \u001B[0;32mIn[19], line 2\u001B[0m\n\u001B[1;32m      1\u001B[0m k \u001B[38;5;241m=\u001B[39m \u001B[38;5;241m10000\u001B[39m\n\u001B[0;32m----> 2\u001B[0m nn_idxs, nn_dists, results_metadata \u001B[38;5;241m=\u001B[39m \u001B[43mcq\u001B[49m\u001B[38;5;241;43m.\u001B[39;49m\u001B[43msearch\u001B[49m\u001B[43m(\u001B[49m\u001B[43mavg_embedding\u001B[49m\u001B[43m,\u001B[49m\u001B[43m \u001B[49m\u001B[43mk\u001B[49m\u001B[38;5;241;43m=\u001B[39;49m\u001B[43mk\u001B[49m\u001B[43m)\u001B[49m\n",
      "File \u001B[0;32m~/Library/CloudStorage/GoogleDrive-at3836@columbia.edu/My Drive/technical_work/Lineage_plasticity/scimilarity/src/scimilarity/cell_query.py:438\u001B[0m, in \u001B[0;36mCellQuery.search\u001B[0;34m(self, embeddings, k, ef, max_dist, exclude_studies)\u001B[0m\n\u001B[1;32m    395\u001B[0m \u001B[38;5;28;01mdef\u001B[39;00m \u001B[38;5;21msearch\u001B[39m(\n\u001B[1;32m    396\u001B[0m     \u001B[38;5;28mself\u001B[39m,\n\u001B[1;32m    397\u001B[0m     embeddings: np\u001B[38;5;241m.\u001B[39mndarray,\n\u001B[0;32m   (...)\u001B[0m\n\u001B[1;32m    401\u001B[0m     exclude_studies: Optional[List[\u001B[38;5;28mstr\u001B[39m]] \u001B[38;5;241m=\u001B[39m \u001B[38;5;28;01mNone\u001B[39;00m,\n\u001B[1;32m    402\u001B[0m ) \u001B[38;5;241m-\u001B[39m\u001B[38;5;241m>\u001B[39m Tuple[List[np\u001B[38;5;241m.\u001B[39mndarray], List[np\u001B[38;5;241m.\u001B[39mndarray], pd\u001B[38;5;241m.\u001B[39mDataFrame]:\n\u001B[1;32m    403\u001B[0m \u001B[38;5;250m    \u001B[39m\u001B[38;5;124;03m\"\"\"Performs a cell query search against the kNN.\u001B[39;00m\n\u001B[1;32m    404\u001B[0m \n\u001B[1;32m    405\u001B[0m \u001B[38;5;124;03m    Parameters\u001B[39;00m\n\u001B[0;32m   (...)\u001B[0m\n\u001B[1;32m    435\u001B[0m \u001B[38;5;124;03m    >>> nn_idxs, nn_dists, metadata = cq.search(embedding)\u001B[39;00m\n\u001B[1;32m    436\u001B[0m \u001B[38;5;124;03m    \"\"\"\u001B[39;00m\n\u001B[0;32m--> 438\u001B[0m     \u001B[38;5;28;01mif\u001B[39;00m \u001B[43mmax_dist\u001B[49m \u001B[38;5;129;01mis\u001B[39;00m \u001B[38;5;129;01mnot\u001B[39;00m \u001B[38;5;28;01mNone\u001B[39;00m:\n\u001B[1;32m    439\u001B[0m         k \u001B[38;5;241m=\u001B[39m \u001B[38;5;241m1000000\u001B[39m\n\u001B[1;32m    441\u001B[0m     \u001B[38;5;28;01mif\u001B[39;00m ef \u001B[38;5;129;01mis\u001B[39;00m \u001B[38;5;28;01mNone\u001B[39;00m:\n",
      "File \u001B[0;32m~/Library/CloudStorage/GoogleDrive-at3836@columbia.edu/My Drive/technical_work/Lineage_plasticity/scimilarity/src/scimilarity/cell_query.py:438\u001B[0m, in \u001B[0;36mCellQuery.search\u001B[0;34m(self, embeddings, k, ef, max_dist, exclude_studies)\u001B[0m\n\u001B[1;32m    395\u001B[0m \u001B[38;5;28;01mdef\u001B[39;00m \u001B[38;5;21msearch\u001B[39m(\n\u001B[1;32m    396\u001B[0m     \u001B[38;5;28mself\u001B[39m,\n\u001B[1;32m    397\u001B[0m     embeddings: np\u001B[38;5;241m.\u001B[39mndarray,\n\u001B[0;32m   (...)\u001B[0m\n\u001B[1;32m    401\u001B[0m     exclude_studies: Optional[List[\u001B[38;5;28mstr\u001B[39m]] \u001B[38;5;241m=\u001B[39m \u001B[38;5;28;01mNone\u001B[39;00m,\n\u001B[1;32m    402\u001B[0m ) \u001B[38;5;241m-\u001B[39m\u001B[38;5;241m>\u001B[39m Tuple[List[np\u001B[38;5;241m.\u001B[39mndarray], List[np\u001B[38;5;241m.\u001B[39mndarray], pd\u001B[38;5;241m.\u001B[39mDataFrame]:\n\u001B[1;32m    403\u001B[0m \u001B[38;5;250m    \u001B[39m\u001B[38;5;124;03m\"\"\"Performs a cell query search against the kNN.\u001B[39;00m\n\u001B[1;32m    404\u001B[0m \n\u001B[1;32m    405\u001B[0m \u001B[38;5;124;03m    Parameters\u001B[39;00m\n\u001B[0;32m   (...)\u001B[0m\n\u001B[1;32m    435\u001B[0m \u001B[38;5;124;03m    >>> nn_idxs, nn_dists, metadata = cq.search(embedding)\u001B[39;00m\n\u001B[1;32m    436\u001B[0m \u001B[38;5;124;03m    \"\"\"\u001B[39;00m\n\u001B[0;32m--> 438\u001B[0m     \u001B[38;5;28;01mif\u001B[39;00m \u001B[43mmax_dist\u001B[49m \u001B[38;5;129;01mis\u001B[39;00m \u001B[38;5;129;01mnot\u001B[39;00m \u001B[38;5;28;01mNone\u001B[39;00m:\n\u001B[1;32m    439\u001B[0m         k \u001B[38;5;241m=\u001B[39m \u001B[38;5;241m1000000\u001B[39m\n\u001B[1;32m    441\u001B[0m     \u001B[38;5;28;01mif\u001B[39;00m ef \u001B[38;5;129;01mis\u001B[39;00m \u001B[38;5;28;01mNone\u001B[39;00m:\n",
      "File \u001B[0;32m_pydevd_bundle/pydevd_cython_darwin_310_64.pyx:1179\u001B[0m, in \u001B[0;36m_pydevd_bundle.pydevd_cython_darwin_310_64.SafeCallWrapper.__call__\u001B[0;34m()\u001B[0m\n",
      "File \u001B[0;32m_pydevd_bundle/pydevd_cython_darwin_310_64.pyx:620\u001B[0m, in \u001B[0;36m_pydevd_bundle.pydevd_cython_darwin_310_64.PyDBFrame.trace_dispatch\u001B[0;34m()\u001B[0m\n",
      "File \u001B[0;32m_pydevd_bundle/pydevd_cython_darwin_310_64.pyx:929\u001B[0m, in \u001B[0;36m_pydevd_bundle.pydevd_cython_darwin_310_64.PyDBFrame.trace_dispatch\u001B[0;34m()\u001B[0m\n",
      "File \u001B[0;32m_pydevd_bundle/pydevd_cython_darwin_310_64.pyx:920\u001B[0m, in \u001B[0;36m_pydevd_bundle.pydevd_cython_darwin_310_64.PyDBFrame.trace_dispatch\u001B[0;34m()\u001B[0m\n",
      "File \u001B[0;32m_pydevd_bundle/pydevd_cython_darwin_310_64.pyx:317\u001B[0m, in \u001B[0;36m_pydevd_bundle.pydevd_cython_darwin_310_64.PyDBFrame.do_wait_suspend\u001B[0;34m()\u001B[0m\n",
      "File \u001B[0;32m/Applications/PyCharm.app/Contents/plugins/python/helpers/pydev/pydevd.py:1160\u001B[0m, in \u001B[0;36mPyDB.do_wait_suspend\u001B[0;34m(self, thread, frame, event, arg, send_suspend_message, is_unhandled_exception)\u001B[0m\n\u001B[1;32m   1157\u001B[0m         from_this_thread\u001B[38;5;241m.\u001B[39mappend(frame_id)\n\u001B[1;32m   1159\u001B[0m \u001B[38;5;28;01mwith\u001B[39;00m \u001B[38;5;28mself\u001B[39m\u001B[38;5;241m.\u001B[39m_threads_suspended_single_notification\u001B[38;5;241m.\u001B[39mnotify_thread_suspended(thread_id, stop_reason):\n\u001B[0;32m-> 1160\u001B[0m     \u001B[38;5;28;43mself\u001B[39;49m\u001B[38;5;241;43m.\u001B[39;49m\u001B[43m_do_wait_suspend\u001B[49m\u001B[43m(\u001B[49m\u001B[43mthread\u001B[49m\u001B[43m,\u001B[49m\u001B[43m \u001B[49m\u001B[43mframe\u001B[49m\u001B[43m,\u001B[49m\u001B[43m \u001B[49m\u001B[43mevent\u001B[49m\u001B[43m,\u001B[49m\u001B[43m \u001B[49m\u001B[43marg\u001B[49m\u001B[43m,\u001B[49m\u001B[43m \u001B[49m\u001B[43msuspend_type\u001B[49m\u001B[43m,\u001B[49m\u001B[43m \u001B[49m\u001B[43mfrom_this_thread\u001B[49m\u001B[43m)\u001B[49m\n",
      "File \u001B[0;32m/Applications/PyCharm.app/Contents/plugins/python/helpers/pydev/pydevd.py:1175\u001B[0m, in \u001B[0;36mPyDB._do_wait_suspend\u001B[0;34m(self, thread, frame, event, arg, suspend_type, from_this_thread)\u001B[0m\n\u001B[1;32m   1172\u001B[0m             \u001B[38;5;28mself\u001B[39m\u001B[38;5;241m.\u001B[39m_call_mpl_hook()\n\u001B[1;32m   1174\u001B[0m         \u001B[38;5;28mself\u001B[39m\u001B[38;5;241m.\u001B[39mprocess_internal_commands()\n\u001B[0;32m-> 1175\u001B[0m         \u001B[43mtime\u001B[49m\u001B[38;5;241;43m.\u001B[39;49m\u001B[43msleep\u001B[49m\u001B[43m(\u001B[49m\u001B[38;5;241;43m0.01\u001B[39;49m\u001B[43m)\u001B[49m\n\u001B[1;32m   1177\u001B[0m \u001B[38;5;28mself\u001B[39m\u001B[38;5;241m.\u001B[39mcancel_async_evaluation(get_current_thread_id(thread), \u001B[38;5;28mstr\u001B[39m(\u001B[38;5;28mid\u001B[39m(frame)))\n\u001B[1;32m   1179\u001B[0m \u001B[38;5;66;03m# process any stepping instructions\u001B[39;00m\n",
      "\u001B[0;31mKeyboardInterrupt\u001B[0m: "
     ]
    }
   ],
   "source": [
    "k = 10000\n",
    "nn_idxs, nn_dists, results_metadata = cq.search(avg_embedding, k=k)"
   ],
   "metadata": {
    "collapsed": false,
    "ExecuteTime": {
     "end_time": "2023-11-07T05:05:01.547133Z",
     "start_time": "2023-11-07T05:04:48.477331Z"
    }
   },
   "id": "e5eba5235217f01c"
  }
 ],
 "metadata": {
  "kernelspec": {
   "name": "myenv",
   "language": "python",
   "display_name": "Python scimilarity"
  },
  "language_info": {
   "codemirror_mode": {
    "name": "ipython",
    "version": 2
   },
   "file_extension": ".py",
   "mimetype": "text/x-python",
   "name": "python",
   "nbconvert_exporter": "python",
   "pygments_lexer": "ipython2",
   "version": "2.7.6"
  }
 },
 "nbformat": 4,
 "nbformat_minor": 5
}
